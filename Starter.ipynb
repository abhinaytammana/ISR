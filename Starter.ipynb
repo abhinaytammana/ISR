{
  "cells": [
    {
      "cell_type": "code",
      "execution_count": 1,
      "metadata": {
        "colab": {
          "base_uri": "https://localhost:8080/",
          "height": 53
        },
        "colab_type": "code",
        "id": "di-k-cqcLRO1",
        "outputId": "22b9be54-e02f-47ed-a6c5-4e8755b4f670"
      },
      "outputs": [
        {
          "name": "stdout",
          "output_type": "stream",
          "text": [
            "Collecting deepspeech==0.6.1\n",
            "  Downloading deepspeech-0.6.1-cp37-cp37m-win_amd64.whl (7.0 MB)\n",
            "     ---------------------------------------- 7.0/7.0 MB 2.8 MB/s eta 0:00:00\n",
            "Collecting numpy<=1.17.0,>=1.14.5 (from deepspeech==0.6.1)\n",
            "  Downloading numpy-1.17.0-cp37-cp37m-win_amd64.whl (12.8 MB)\n",
            "     --------------------------------------- 12.8/12.8 MB 12.3 MB/s eta 0:00:00\n",
            "Installing collected packages: numpy, deepspeech\n",
            "  Attempting uninstall: numpy\n",
            "    Found existing installation: numpy 1.21.6\n",
            "    Uninstalling numpy-1.21.6:\n",
            "      Successfully uninstalled numpy-1.21.6\n",
            "Successfully installed deepspeech-0.6.1 numpy-1.17.0\n",
            "Note: you may need to restart the kernel to use updated packages.\n"
          ]
        }
      ],
      "source": [
        "pip install deepspeech==0.6.1"
      ]
    },
    {
      "cell_type": "code",
      "execution_count": 2,
      "metadata": {
        "colab": {},
        "colab_type": "code",
        "id": "YfZ6VYqAMYM4"
      },
      "outputs": [
        {
          "name": "stderr",
          "output_type": "stream",
          "text": [
            "'apt-get' is not recognized as an internal or external command,\n",
            "operable program or batch file.\n"
          ]
        }
      ],
      "source": [
        "!apt-get install -qq sox"
      ]
    },
    {
      "cell_type": "markdown",
      "metadata": {
        "colab_type": "text",
        "id": "8Zucc5O8W9v1"
      },
      "source": [
        "Make a directory 'speech' and upload 3 files inside it: lm.binary, trie and retrained output_graph.pbmm "
      ]
    },
    {
      "cell_type": "code",
      "execution_count": 3,
      "metadata": {
        "colab": {},
        "colab_type": "code",
        "id": "J61HfQyqLwAc"
      },
      "outputs": [],
      "source": [
        "import deepspeech"
      ]
    },
    {
      "cell_type": "code",
      "execution_count": 4,
      "metadata": {
        "colab": {
          "base_uri": "https://localhost:8080/",
          "height": 217
        },
        "colab_type": "code",
        "id": "xxSDKwXoMC_i",
        "outputId": "d8f931f0-0bbf-425e-b975-58604b404483"
      },
      "outputs": [
        {
          "name": "stderr",
          "output_type": "stream",
          "text": [
            "Loading model from file speech/output_graph.pbmm\n",
            "TensorFlow: v1.14.0-21-ge77504ac6b\n",
            "DeepSpeech: v0.6.1-0-g3df20fe\n",
            "Not found: NewReadOnlyMemoryRegionFromFile failed to Create/Open: speech/output_graph.pbmm : The system cannot find the path specified.\n",
            "; No such process\n",
            "Traceback (most recent call last):\n",
            "  File \"c:\\Users\\DELL\\AppData\\Local\\Programs\\Python\\Python37\\lib\\runpy.py\", line 193, in _run_module_as_main\n",
            "    \"__main__\", mod_spec)\n",
            "  File \"c:\\Users\\DELL\\AppData\\Local\\Programs\\Python\\Python37\\lib\\runpy.py\", line 85, in _run_code\n",
            "    exec(code, run_globals)\n",
            "  File \"C:\\Users\\DELL\\AppData\\Local\\Programs\\Python\\Python37\\Scripts\\deepspeech.exe\\__main__.py\", line 7, in <module>\n",
            "  File \"c:\\Users\\DELL\\AppData\\Local\\Programs\\Python\\Python37\\lib\\site-packages\\deepspeech\\client.py\", line 113, in main\n",
            "    ds = Model(args.model, args.beam_width)\n",
            "  File \"c:\\Users\\DELL\\AppData\\Local\\Programs\\Python\\Python37\\lib\\site-packages\\deepspeech\\__init__.py\", line 42, in __init__\n",
            "    raise RuntimeError(\"CreateModel failed with error code {}\".format(status))\n",
            "RuntimeError: CreateModel failed with error code 12288\n"
          ]
        }
      ],
      "source": [
        "!deepspeech --model speech/output_graph.pbmm --lm speech/lm.binary --trie speech/trie --audio /content/06_M_artic_01_004.wav"
      ]
    },
    {
      "cell_type": "code",
      "execution_count": 6,
      "metadata": {},
      "outputs": [
        {
          "name": "stderr",
          "output_type": "stream",
          "text": [
            "'images' is not recognized as an internal or external command,\n",
            "operable program or batch file.\n"
          ]
        }
      ],
      "source": [
        "!(images/code_execution.gif)"
      ]
    }
  ],
  "metadata": {
    "colab": {
      "name": "Starter",
      "provenance": []
    },
    "kernelspec": {
      "display_name": "Python 3",
      "name": "python3"
    },
    "language_info": {
      "codemirror_mode": {
        "name": "ipython",
        "version": 3
      },
      "file_extension": ".py",
      "mimetype": "text/x-python",
      "name": "python",
      "nbconvert_exporter": "python",
      "pygments_lexer": "ipython3",
      "version": "3.7.0"
    }
  },
  "nbformat": 4,
  "nbformat_minor": 0
}
